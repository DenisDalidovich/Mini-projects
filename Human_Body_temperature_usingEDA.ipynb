{
 "cells": [
  {
   "cell_type": "markdown",
   "metadata": {},
   "source": [
    "# What is the True Normal Human Body Temperature? \n",
    "\n",
    "#### Background\n",
    "\n",
    "The mean normal body temperature was held to be 37$^{\\circ}$C or 98.6$^{\\circ}$F for more than 120 years since it was first conceptualized and reported by Carl Wunderlich in a famous 1868 book. But, is this value statistically correct?"
   ]
  },
  {
   "cell_type": "markdown",
   "metadata": {},
   "source": [
    "<h3>Exercises</h3>\n",
    "\n",
    "<p>In this exercise, you will analyze a dataset of human body temperatures and employ the concepts of hypothesis testing, confidence intervals, and statistical significance.</p>\n",
    "\n",
    "<p>Answer the following questions <b>in this notebook below and submit to your Github account</b>.</p> \n",
    "\n",
    "<ol>\n",
    "<li>  Is the distribution of body temperatures normal? \n",
    "    <ul>\n",
    "    <li> Although this is not a requirement for CLT to hold (read CLT carefully), it gives us some peace of mind that the population may also be normally distributed if we assume that this sample is representative of the population.\n",
    "    </ul>\n",
    "<li>  Is the sample size large? Are the observations independent?\n",
    "    <ul>\n",
    "    <li> Remember that this is a condition for the CLT, and hence the statistical tests we are using, to apply.\n",
    "    </ul>\n",
    "<li>  Is the true population mean really 98.6 degrees F?\n",
    "    <ul>\n",
    "    <li> Would you use a one-sample or two-sample test? Why?\n",
    "    <li> In this situation, is it appropriate to use the $t$ or $z$ statistic? \n",
    "    <li> Now try using the other test. How is the result be different? Why?\n",
    "    </ul>\n",
    "<li>  Draw a small sample of size 10 from the data and repeat both tests. \n",
    "    <ul>\n",
    "    <li> Which one is the correct one to use? \n",
    "    <li> What do you notice? What does this tell you about the difference in application of the $t$ and $z$ statistic?\n",
    "    </ul>\n",
    "<li>  At what temperature should we consider someone's temperature to be \"abnormal\"?\n",
    "    <ul>\n",
    "    <li> Start by computing the margin of error and confidence interval.\n",
    "    </ul>\n",
    "<li>  Is there a significant difference between males and females in normal temperature?\n",
    "    <ul>\n",
    "    <li> What test did you use and why?\n",
    "    <li> Write a story with your conclusion in the context of the original problem.\n",
    "    </ul>\n",
    "</ol>\n",
    "\n",
    "You can include written notes in notebook cells using Markdown: \n",
    "   - In the control panel at the top, choose Cell > Cell Type > Markdown\n",
    "   - Markdown syntax: http://nestacms.com/docs/creating-content/markdown-cheat-sheet\n",
    "\n",
    "#### Resources\n",
    "\n",
    "+ Information and data sources: http://www.amstat.org/publications/jse/datasets/normtemp.txt, http://www.amstat.org/publications/jse/jse_data_archive.htm\n",
    "+ Markdown syntax: http://nestacms.com/docs/creating-content/markdown-cheat-sheet\n",
    "\n",
    "****"
   ]
  },
  {
   "cell_type": "code",
   "execution_count": 1,
   "metadata": {
    "collapsed": false
   },
   "outputs": [
    {
     "name": "stdout",
     "output_type": "stream",
     "text": [
      "<class 'pandas.core.frame.DataFrame'>\n",
      "RangeIndex: 130 entries, 0 to 129\n",
      "Data columns (total 3 columns):\n",
      "temperature    130 non-null float64\n",
      "gender         130 non-null object\n",
      "heart_rate     130 non-null float64\n",
      "dtypes: float64(2), object(1)\n",
      "memory usage: 3.1+ KB\n"
     ]
    }
   ],
   "source": [
    "import pandas as pd\n",
    "\n",
    "df = pd.read_csv('data/human_body_temperature.csv')\n",
    "\n",
    "df.info()"
   ]
  },
  {
   "cell_type": "markdown",
   "metadata": {},
   "source": [
    "1) Is the distribution of body temperatures normal? \n",
    "\n",
    "To answer this question, we calculate the mean and standard deviation from the data, generate random samples from the normal distribution with computed  mean and standard deviation, and compare the plots of ecdf's (empirical cumulative distributions) obtained respectively from the given data and sampled data. It follows from the plot below that the body temperatures can be regarded normally distributed."
   ]
  },
  {
   "cell_type": "code",
   "execution_count": 2,
   "metadata": {
    "collapsed": false
   },
   "outputs": [
    {
     "data": {
      "image/png": "[encoded data removed]",
      "text/plain": [
       "<matplotlib.figure.Figure at 0x17fef3cb940>"
      ]
     },
     "metadata": {},
     "output_type": "display_data"
    }
   ],
   "source": [
    "import numpy as np\n",
    "\n",
    "import matplotlib.pyplot as plt\n",
    "\n",
    "# Empirical cumulative distribution function\n",
    "def ecdf(data):\n",
    "    \"\"\"Compute ECDF for a one-dimensional array of measurements.\"\"\"\n",
    "\n",
    "    n = len(data) # Number of data points: n\n",
    "    x = np.sort(data) # x-data for the ECDF: x\n",
    "    y = np.arange(1, n+1) / n  # y-data for the ECDF: y\n",
    "\n",
    "    return x, y\n",
    "\n",
    "mean = np.mean(df.temperature)\n",
    "std = np.std(df.temperature)\n",
    "samples = np.random.normal(mean, std, size=10000)\n",
    "\n",
    "x, y = ecdf(df.temperature)  # ecdf from the given data\n",
    "\n",
    "x_theor, y_theor = ecdf(samples)  #ecdf from sampled data\n",
    "\n",
    "# Plotting ecdf's\n",
    "_ = plt.plot(x_theor, y_theor)\n",
    "_ = plt.plot(x, y, marker='.', linestyle='none')\n",
    "\n",
    "_= plt.xlabel('body temperature')\n",
    "_ = plt.ylabel('CDF')\n",
    "plt.show()\n"
   ]
  },
  {
   "cell_type": "markdown",
   "metadata": {},
   "source": [
    "A much more quantitatively sound test can be found in scipy.stats module. This is the test whether our sample differs from a normal distribution. The null hypothesis is that a sample comes from a normal distribution. The test returns a p-value, which for df.temperature is equal to 0.258. Such a large number of p-value is in a very strong favor of the null hypothesis, and hence the fact that the body temperatures are normally distributed."
   ]
  },
  {
   "cell_type": "code",
   "execution_count": 13,
   "metadata": {
    "collapsed": false
   },
   "outputs": [
    {
     "name": "stdout",
     "output_type": "stream",
     "text": [
      "p-value is: 0.258747986349\n"
     ]
    }
   ],
   "source": [
    "from scipy import stats\n",
    "\n",
    "k2, p = stats.normaltest(df.temperature)\n",
    "print(\"p-value is:\", p)"
   ]
  },
  {
   "cell_type": "markdown",
   "metadata": {},
   "source": [
    "2)  Is the sample size large? Are the observations independent? \n",
    "\n",
    "The size of the sample is equal to 130, and it seems to be not very large. However, it is large enough to assume that observations obey normal distribution. To check whether the observations are independent, we generate a random sample of the same size as df.temperature using normal distribution with np.mean(df.temperature) and np.std(df.temperature). Then we will test the hypothesis that the mean of the generated sample is the same as np.mean(df.temperature), using bootstrap replicates. "
   ]
  },
  {
   "cell_type": "code",
   "execution_count": 14,
   "metadata": {
    "collapsed": true
   },
   "outputs": [],
   "source": [
    "# Auxilliary function: Generating the bootstrap replicates\n",
    "\n",
    "def bootstrap_replicate_1d(data, func):\n",
    "    return func(np.random.choice(data, size=len(data)))\n",
    "\n",
    "def draw_bs_reps(data, func, size=1):\n",
    "    \"\"\"Draw bootstrap replicates.\"\"\"\n",
    "    \n",
    "    bs_replicates = np.empty(size)\n",
    "\n",
    "    for i in range(size):\n",
    "        bs_replicates[i] = bootstrap_replicate_1d(data, func)\n",
    "\n",
    "    return bs_replicates\n"
   ]
  },
  {
   "cell_type": "code",
   "execution_count": 15,
   "metadata": {
    "collapsed": false
   },
   "outputs": [
    {
     "name": "stdout",
     "output_type": "stream",
     "text": [
      "p-value is: 0.256\n"
     ]
    }
   ],
   "source": [
    "mean = np.mean(df.temperature)\n",
    "std = np.std(df.temperature)\n",
    "samples = np.random.normal(mean, std, size=len(df.temperature))\n",
    "\n",
    "\n",
    "# shift our sampled data, so that the mean of the sampled data is equal to np.mean(df.temperature)\n",
    "samples_shifted = samples - np.mean(samples) + mean\n",
    "\n",
    "def diff_from_mean(data):\n",
    "    return np.mean(data) - mean\n",
    "\n",
    "diff_observed = diff_from_mean(samples)\n",
    "# print(diff_observed)\n",
    "\n",
    "bs_replicates = draw_bs_reps(samples_shifted, diff_from_mean, 10000)\n",
    "p_value = np.sum(abs(bs_replicates) >= abs(diff_observed)) / 10000\n",
    "print(\"p-value is:\", p_value)"
   ]
  },
  {
   "cell_type": "markdown",
   "metadata": {},
   "source": [
    "Again, the large p-value suggests that our data in df.temperature independently come from normal distribution."
   ]
  },
  {
   "cell_type": "markdown",
   "metadata": {},
   "source": [
    "3) Is the true population mean really 98.6 degrees F? \n",
    "\n",
    "To answer this question, we test the hypothesis that np.mean(df.temperature) is equal to 98.6 F using a one-sample test. We will use the one-sample test, beacuse we do not have the data that led us to believe that mean temperature can be 98.6 F.  We will proceed almost identically to the previous question and generate the shifted sample data with the new mean equal to 98.6 "
   ]
  },
  {
   "cell_type": "code",
   "execution_count": 16,
   "metadata": {
    "collapsed": false
   },
   "outputs": [
    {
     "name": "stdout",
     "output_type": "stream",
     "text": [
      "p-value is: 0.0\n"
     ]
    }
   ],
   "source": [
    "def diff_from_98_6(data):\n",
    "    return np.mean(data) - 98.6\n",
    "\n",
    "df_temperature_shifted = df.temperature - mean + 98.6\n",
    "\n",
    "diff_obs = diff_from_98_6(df.temperature)\n",
    "#print(diff_obs)\n",
    "\n",
    "bs_replicates = draw_bs_reps(df_temperature_shifted, diff_from_98_6, 100000)\n",
    "p_value = np.sum(abs(bs_replicates) >= abs(diff_obs)) / 100000\n",
    "print(\"p-value is:\", p_value)"
   ]
  },
  {
   "cell_type": "markdown",
   "metadata": {},
   "source": [
    "We then employ the z-test and t-test taken from statsmodels and scipy.stats modules respectively. Since the size of the sample is large enough (more than 30), we expect that the results of both tests will be very close to each other."
   ]
  },
  {
   "cell_type": "code",
   "execution_count": 17,
   "metadata": {
    "collapsed": false
   },
   "outputs": [
    {
     "name": "stdout",
     "output_type": "stream",
     "text": [
      "p-value from z_test is: 4.9021570141e-08\n",
      "p-value from t_test is: 2.41063204156e-07\n"
     ]
    }
   ],
   "source": [
    "import statsmodels.stats.weightstats as ssw\n",
    "\n",
    "# ztest from statsmodels module\n",
    "teststat_ztest, p_value_ztest = ssw.ztest(df.temperature, None, 98.6)\n",
    "print(\"p-value from z_test is:\", p_value_ztest)\n",
    "\n",
    "\n",
    "# t-test using scipy.stats module\n",
    "teststat_ttest, p_value_ttest = stats.ttest_1samp(df.temperature, 98.6)\n",
    "print(\"p-value from t_test is:\", p_value_ttest)\n"
   ]
  },
  {
   "cell_type": "markdown",
   "metadata": {
    "collapsed": true
   },
   "source": [
    "We see that all three tests (hand-made bootstrap, library z-test and t-test) of the null hypothesis give almost zero results for p-value. This means that the hypothesis of the mean temperature being equal to 98.6 F should be rejected."
   ]
  },
  {
   "cell_type": "markdown",
   "metadata": {},
   "source": [
    "4) Let's now draw a small sample of size 10 from the data and repeat both z-test and t-tests"
   ]
  },
  {
   "cell_type": "code",
   "execution_count": 18,
   "metadata": {
    "collapsed": false
   },
   "outputs": [
    {
     "name": "stdout",
     "output_type": "stream",
     "text": [
      "p-value from z_test is: 0.0077304014331\n",
      "p-value from t_test is: 0.0258915858032\n"
     ]
    }
   ],
   "source": [
    "df_temp_small_sample = np.random.choice(df.temperature, size=10)\n",
    "\n",
    "# ztest for our small sample\n",
    "teststat_ztest, p_value_ztest = ssw.ztest(df_temp_small_sample, None, 98.6)\n",
    "print(\"p-value from z_test is:\", p_value_ztest)\n",
    "\n",
    "\n",
    "# t-test for our small sample\n",
    "teststat_ttest, p_value_ttest = stats.ttest_1samp(df_temp_small_sample, 98.6)\n",
    "print(\"p-value from t_test is:\", p_value_ttest)"
   ]
  },
  {
   "cell_type": "markdown",
   "metadata": {},
   "source": [
    "We see that for a small sample of size 10, the p-values are much larger than p-values for the sample of size 130. But moreover, these values may differ significantly among themselves depending on the random selection from the original data. For small sizes of a sample, unless we know a priori the standard deviation, the t-test is the appropriate one. "
   ]
  },
  {
   "cell_type": "markdown",
   "metadata": {},
   "source": [
    "5) At what temperature should we consider someone's temperature to be \"abnormal\"? \n",
    "\n",
    "To answer this question, we generate many more samples using the normal distribution with \n",
    "np.mean(df.temperature) and np.std(df.temperature), and look at the 90% confidence interval. The values of body temperatures that lie outside this interval should already be considered abnormal. The calculation below shows that the abnormal temperatures are those that lie below 97.045 and above\n",
    "99.3 degrees F."
   ]
  },
  {
   "cell_type": "code",
   "execution_count": 19,
   "metadata": {
    "collapsed": false
   },
   "outputs": [
    {
     "data": {
      "text/plain": [
       "array([ 97.045,  99.3  ])"
      ]
     },
     "execution_count": 19,
     "metadata": {},
     "output_type": "execute_result"
    }
   ],
   "source": [
    "many_samples = np.random.normal(mean, std, size=10000)\n",
    "\n",
    "np.percentile(df.temperature, [5.0, 95.0])"
   ]
  },
  {
   "cell_type": "markdown",
   "metadata": {
    "collapsed": true
   },
   "source": [
    "6) Is there a significant difference between males and females in normal temperature? \n",
    "\n",
    "To address this question we will generate the data sets for males and females and do a two-body test. Both datasets contain 65 observations. While the two-sample bootstrap test, we shift both arrays to have the same mean temperature, since we are simulating the hypothesis that the mean temperatures are, in fact, equal. We then draw bootstrap samples out of the shifted arrays and compute the difference in means. This constitutes a bootstrap replicate, and we generate many of them. The p-value is the fraction of replicates with a difference in means greater than or equal to what was observed.\n"
   ]
  },
  {
   "cell_type": "code",
   "execution_count": 20,
   "metadata": {
    "collapsed": false
   },
   "outputs": [
    {
     "name": "stdout",
     "output_type": "stream",
     "text": [
      "p-value = 0.0209\n"
     ]
    }
   ],
   "source": [
    "df_males = df[df.gender == 'M']\n",
    "df_females = df[df.gender == 'F']\n",
    "\n",
    "\n",
    "diff_of_mean_temperatures  = np.mean(df_males.temperature) - np.mean(df_females.temperature)\n",
    "#print(diff_of_mean_temperatures)\n",
    "\n",
    "df_males_temp_shifted = df_males.temperature - np.mean(df_males.temperature) + mean\n",
    "df_females_temp_shifted = df_females.temperature - np.mean(df_females.temperature) + mean\n",
    "\n",
    "# Compute 10,000 bootstrap replicates from shifted arrays\n",
    "bs_replicates_males = draw_bs_reps(df_males_temp_shifted, np.mean, 10000)\n",
    "bs_replicates_females = draw_bs_reps(df_females_temp_shifted, np.mean, 10000)\n",
    "\n",
    "# Get replicates of difference of means: bs_replicates\n",
    "bs_replicates = bs_replicates_males - bs_replicates_females\n",
    "\n",
    "# Compute and print p-value: p\n",
    "p = np.sum(abs(bs_replicates) >= abs(diff_of_mean_temperatures)) / len(bs_replicates)\n",
    "print('p-value =', p)\n"
   ]
  },
  {
   "cell_type": "markdown",
   "metadata": {},
   "source": [
    "We can confirm the p-value doing the two-sample z-test from statsmodels module"
   ]
  },
  {
   "cell_type": "code",
   "execution_count": 21,
   "metadata": {
    "collapsed": false
   },
   "outputs": [
    {
     "name": "stdout",
     "output_type": "stream",
     "text": [
      "p-value from z_test is: 0.0222873607607\n"
     ]
    }
   ],
   "source": [
    "two_sample_ztest, p_value_two_sample_ztest = \\\n",
    "ssw.ztest(df_males.temperature, df_females.temperature, 0.0)\n",
    "print(\"p-value from z_test is:\", p_value_two_sample_ztest)"
   ]
  },
  {
   "cell_type": "markdown",
   "metadata": {},
   "source": [
    "We see that there is roughly 2.2 per probability to obtain the difference between male and female temperatures that is as large as the observed difference. Thus, we can say that the difference in temperatures between male and female temperatures is significant."
   ]
  },
  {
   "cell_type": "code",
   "execution_count": null,
   "metadata": {
    "collapsed": true
   },
   "outputs": [],
   "source": []
  }
 ],
 "metadata": {
  "kernelspec": {
   "display_name": "Python 3",
   "language": "python",
   "name": "python3"
  },
  "language_info": {
   "codemirror_mode": {
    "name": "ipython",
    "version": 3
   },
   "file_extension": ".py",
   "mimetype": "text/x-python",
   "name": "python",
   "nbconvert_exporter": "python",
   "pygments_lexer": "ipython3",
   "version": "3.6.0"
  }
 },
 "nbformat": 4,
 "nbformat_minor": 1
}
