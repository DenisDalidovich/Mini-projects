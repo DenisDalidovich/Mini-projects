{
 "cells": [
  {
   "cell_type": "markdown",
   "metadata": {},
   "source": [
    "# Examining Racial Discrimination in the US Job Market\n",
    "\n",
    "### Background\n",
    "Racial discrimination continues to be pervasive in cultures throughout the world. Researchers examined the level of racial discrimination in the United States labor market by randomly assigning identical résumés to black-sounding or white-sounding names and observing the impact on requests for interviews from employers.\n",
    "\n",
    "### Data\n",
    "In the dataset provided, each row represents a resume. The 'race' column has two values, 'b' and 'w', indicating black-sounding and white-sounding. The column 'call' has two values, 1 and 0, indicating whether the resume received a call from employers or not.\n",
    "\n",
    "Note that the 'b' and 'w' values in race are assigned randomly to the resumes when presented to the employer."
   ]
  },
  {
   "cell_type": "markdown",
   "metadata": {},
   "source": [
    "### Exercises\n",
    "You will perform a statistical analysis to establish whether race has a significant impact on the rate of callbacks for resumes.\n",
    "\n",
    "Answer the following questions **in this notebook below and submit to your Github account**. \n",
    "\n",
    "   1. What test is appropriate for this problem? Does CLT apply?\n",
    "   2. What are the null and alternate hypotheses?\n",
    "   3. Compute margin of error, confidence interval, and p-value.\n",
    "   4. Write a story describing the statistical significance in the context or the original problem.\n",
    "   5. Does your analysis mean that race/name is the most important factor in callback success? Why or why not? If not, how would you amend your analysis?\n",
    "\n",
    "You can include written notes in notebook cells using Markdown: \n",
    "   - In the control panel at the top, choose Cell > Cell Type > Markdown\n",
    "   - Markdown syntax: http://nestacms.com/docs/creating-content/markdown-cheat-sheet\n",
    "\n",
    "\n",
    "#### Resources\n",
    "+ Experiment information and data source: http://www.povertyactionlab.org/evaluation/discrimination-job-market-united-states\n",
    "+ Scipy statistical methods: http://docs.scipy.org/doc/scipy/reference/stats.html \n",
    "+ Markdown syntax: http://nestacms.com/docs/creating-content/markdown-cheat-sheet\n",
    "****"
   ]
  },
  {
   "cell_type": "code",
   "execution_count": 125,
   "metadata": {
    "collapsed": false
   },
   "outputs": [],
   "source": [
    "import pandas as pd\n",
    "import numpy as np\n",
    "from scipy import stats"
   ]
  },
  {
   "cell_type": "markdown",
   "metadata": {},
   "source": [
    "To address all the questions, lets first look at the dataset. It contains 4870 rows and 65 columns and can be considered quite wide. It contains 2435 rows related to black-sounding names, and the same number of rows related to white-sounding names."
   ]
  },
  {
   "cell_type": "code",
   "execution_count": 126,
   "metadata": {
    "collapsed": false
   },
   "outputs": [
    {
     "name": "stdout",
     "output_type": "stream",
     "text": [
      "b    2435\n",
      "Name: race, dtype: int64\n",
      "w    2435\n",
      "Name: race, dtype: int64\n"
     ]
    }
   ],
   "source": [
    "data = pd.io.stata.read_stata('data/us_job_market_discrimination.dta')\n",
    "\n",
    "#data.info()\n",
    "#ata.head()\n",
    "\n",
    "print(data[data.race=='b']['race'].value_counts()) \n",
    "print(data[data.race=='w']['race'].value_counts())"
   ]
  },
  {
   "cell_type": "markdown",
   "metadata": {},
   "source": [
    "Let's compute the number of callbacks for black-sounding names and callbacks for white-sounding names. The probabilities of a callback for both type of names is prob_b = mean_b/2435 and\n",
    "prob_w = mean_w/2435. Both of them are rather small number, albeit mean_w and mean_b are rather large. Size of the sample N=2435 is large as well, meaning that the central limit theorem is applicable. Numbers of callbacks (for black and white sounding names) can be considered binomial random variables with the means mean_b and mean_w respectively. The standard deviations are std_w = sqrt(prob_w * (1- prob_w) N) and std_b = sqrt(prob_b * (1- prob_b) N). Since N, mean_b and mean_w are all large, the numbers of callbacks obey approximately normal distributions."
   ]
  },
  {
   "cell_type": "code",
   "execution_count": 127,
   "metadata": {
    "collapsed": false
   },
   "outputs": [
    {
     "name": "stdout",
     "output_type": "stream",
     "text": [
      "number of callbacks for black-sounding names: 157.0\n",
      "number of callbacks for white-sounding names: 235.0\n",
      "probability of a callbacks for a black-sounding name: 0.064476386037\n",
      "probability of a callbacks for a white-sounding name: 0.0965092402464\n",
      "the std of the number of callback for black-sounding names: 12.1192907132\n",
      "the std of the number of callback for white-sounding names: 14.5712157537\n"
     ]
    }
   ],
   "source": [
    "# number of callbacks for black-sounding names\n",
    "mean_b = sum(data[data.race=='b'].call)\n",
    "\n",
    "# number of callbacks for white-sounding names\n",
    "mean_w = sum(data[data.race=='w'].call)\n",
    "\n",
    "print(\"number of callbacks for black-sounding names:\", mean_b)\n",
    "print(\"number of callbacks for white-sounding names:\", mean_w)\n",
    "\n",
    "# probabilitirs of callbacks for both names\n",
    "prob_b = mean_b/2435\n",
    "prob_w = mean_w/2435\n",
    "\n",
    "\n",
    "print(\"probability of a callbacks for a black-sounding name:\", prob_b)\n",
    "print(\"probability of a callbacks for a white-sounding name:\", prob_w)\n",
    "\n",
    "# the standard deviations\n",
    "std_w = np.sqrt(prob_w * (1- prob_w) *2435)\n",
    "std_b = np.sqrt(prob_b * (1- prob_b) *2435)\n",
    "\n",
    "print(\"the std of the number of callback for black-sounding names:\" , std_b)\n",
    "print(\"the std of the number of callback for white-sounding names:\" , std_w)"
   ]
  },
  {
   "cell_type": "markdown",
   "metadata": {
    "collapsed": true
   },
   "source": [
    "Let's determine the range of values for the average numbers of callbacks around mean_b and mean_w if experiments were repeated over and over again. We will use the stats.norm.interval function from stats module and set the 95 percent confidence interval. We see that if the study is repeated many times, with 95 percent probability the average number of callbacks for black-sounding names will lie between 133.246626684 and 180.753373316, while with the same probability the average number of callbacks for white-sounding names will lie between 206.440941912 and 263.559058088. These ranges do not intersect, meaning that the lower boundary for white-sounding names is greater than the upper boundary for black-sounding names."
   ]
  },
  {
   "cell_type": "code",
   "execution_count": 128,
   "metadata": {
    "collapsed": false
   },
   "outputs": [
    {
     "name": "stdout",
     "output_type": "stream",
     "text": [
      "With 95 percent probability the average number of callbacks for black-sounding      names will lie between 133.246626684 and 180.753373316\n",
      "\n",
      "\n",
      "With 95 percent probability the average number of callbacks for white-sounding      names will lie between 206.440941912 and 263.559058088\n"
     ]
    }
   ],
   "source": [
    "interv_b = stats.norm.interval(0.95, loc = mean_b, scale = std_b)\n",
    "interv_w = stats.norm.interval(0.95, loc = mean_w, scale = std_w)\n",
    "\n",
    "print(\"With 95 percent probability the average number of callbacks for black-sounding\\\n",
    "      names will lie between\", interv_b[0], \"and\", interv_b[1])\n",
    "\n",
    "print('\\n')\n",
    "print(\"With 95 percent probability the average number of callbacks for white-sounding\\\n",
    "      names will lie between\", interv_w[0], \"and\", interv_w[1])"
   ]
  },
  {
   "cell_type": "markdown",
   "metadata": {},
   "source": [
    "This implies that the numbers of callbacks for black-sounding and white-sounding names will stand sufficiently far apart if experiments are repeated many times. Let's confirm further this finding stating the null-hypothesis that mean_b is equal to mean_w implying that race still does not play any role. To compute the corresponding p_value, we use the function stats.norm.cdf from the stats module. The p-value is very small meaning the numbers of callbacks for black-sounding and white-sounding names are statistically significant."
   ]
  },
  {
   "cell_type": "code",
   "execution_count": 129,
   "metadata": {
    "collapsed": false
   },
   "outputs": [],
   "source": [
    "p_value = stats.norm.cdf(mean_b, loc= mean_w, scale = std_w)"
   ]
  },
  {
   "cell_type": "markdown",
   "metadata": {},
   "source": [
    "The finding that he numbers of callbacks for black-sounding and white-sounding names are statistically significant is based on the data provided in one column only, the actual number of callbacks themselves. This does not mean the presence of racial discrimination because the decision whether to make a callback or not could be based on numerical data given in other columns. To clarify the picture further, one should check whether the data for black and white sounding names in other columns are at least approximately the same. One should investigate the content of the columns that may play an important role in a callback decision: education, yearsexp, honors, volunteer, military, workinschoool, computerskills, specialskills and possibly some others. One can create additional column 'SKILLS' containing a numerical value corresponding to the weighted amount of all skills that play the role. After that one should do the similar statistical analysis, but test the hypothesis that means of callbacks for black and white sounding names are equal separately for candidates having one and the same rating in the 'SKILLS' column. "
   ]
  },
  {
   "cell_type": "code",
   "execution_count": 130,
   "metadata": {
    "collapsed": false
   },
   "outputs": [
    {
     "name": "stdout",
     "output_type": "stream",
     "text": [
      "<class 'pandas.core.frame.DataFrame'>\n",
      "Int64Index: 4870 entries, 0 to 4869\n",
      "Data columns (total 65 columns):\n",
      "id                    4870 non-null object\n",
      "ad                    4870 non-null object\n",
      "education             4870 non-null int8\n",
      "ofjobs                4870 non-null int8\n",
      "yearsexp              4870 non-null int8\n",
      "honors                4870 non-null int8\n",
      "volunteer             4870 non-null int8\n",
      "military              4870 non-null int8\n",
      "empholes              4870 non-null int8\n",
      "occupspecific         4870 non-null int16\n",
      "occupbroad            4870 non-null int8\n",
      "workinschool          4870 non-null int8\n",
      "email                 4870 non-null int8\n",
      "computerskills        4870 non-null int8\n",
      "specialskills         4870 non-null int8\n",
      "firstname             4870 non-null object\n",
      "sex                   4870 non-null object\n",
      "race                  4870 non-null object\n",
      "h                     4870 non-null float32\n",
      "l                     4870 non-null float32\n",
      "call                  4870 non-null float32\n",
      "city                  4870 non-null object\n",
      "kind                  4870 non-null object\n",
      "adid                  4870 non-null float32\n",
      "fracblack             4784 non-null float32\n",
      "fracwhite             4784 non-null float32\n",
      "lmedhhinc             4784 non-null float32\n",
      "fracdropout           4784 non-null float32\n",
      "fraccolp              4784 non-null float32\n",
      "linc                  4784 non-null float32\n",
      "col                   4870 non-null float32\n",
      "expminreq             4870 non-null object\n",
      "schoolreq             4870 non-null object\n",
      "eoe                   4870 non-null float32\n",
      "parent_sales          1672 non-null float32\n",
      "parent_emp            1722 non-null float32\n",
      "branch_sales          608 non-null float32\n",
      "branch_emp            658 non-null float32\n",
      "fed                   3102 non-null float32\n",
      "fracblack_empzip      1918 non-null float32\n",
      "fracwhite_empzip      1918 non-null float32\n",
      "lmedhhinc_empzip      1908 non-null float32\n",
      "fracdropout_empzip    1918 non-null float32\n",
      "fraccolp_empzip       1918 non-null float32\n",
      "linc_empzip           1918 non-null float32\n",
      "manager               4870 non-null float32\n",
      "supervisor            4870 non-null float32\n",
      "secretary             4870 non-null float32\n",
      "offsupport            4870 non-null float32\n",
      "salesrep              4870 non-null float32\n",
      "retailsales           4870 non-null float32\n",
      "req                   4870 non-null float32\n",
      "expreq                4870 non-null float32\n",
      "comreq                4870 non-null float32\n",
      "educreq               4870 non-null float32\n",
      "compreq               4870 non-null float32\n",
      "orgreq                4870 non-null float32\n",
      "manuf                 4870 non-null float32\n",
      "transcom              4870 non-null float32\n",
      "bankreal              4870 non-null float32\n",
      "trade                 4870 non-null float32\n",
      "busservice            4870 non-null float32\n",
      "othservice            4870 non-null float32\n",
      "missind               4870 non-null float32\n",
      "ownership             4870 non-null object\n",
      "dtypes: float32(42), int16(1), int8(12), object(10)\n",
      "memory usage: 1.3+ MB\n"
     ]
    }
   ],
   "source": [
    "data.info()"
   ]
  },
  {
   "cell_type": "code",
   "execution_count": null,
   "metadata": {
    "collapsed": true
   },
   "outputs": [],
   "source": []
  }
 ],
 "metadata": {
  "kernelspec": {
   "display_name": "Python 3",
   "language": "python",
   "name": "python3"
  },
  "language_info": {
   "codemirror_mode": {
    "name": "ipython",
    "version": 3
   },
   "file_extension": ".py",
   "mimetype": "text/x-python",
   "name": "python",
   "nbconvert_exporter": "python",
   "pygments_lexer": "ipython3",
   "version": "3.6.0"
  }
 },
 "nbformat": 4,
 "nbformat_minor": 0
}
